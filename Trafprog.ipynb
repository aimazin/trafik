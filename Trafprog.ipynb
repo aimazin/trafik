{
 "cells": [
  {
   "cell_type": "code",
   "execution_count": 1,
   "id": "b99e9895",
   "metadata": {},
   "outputs": [],
   "source": [
    "from pytrafikverket import TrafikverketTrain\n",
    "import asyncio\n",
    "from datetime import datetime\n",
    "import aiohttp"
   ]
  },
  {
   "cell_type": "code",
   "execution_count": 3,
   "id": "b761188d",
   "metadata": {},
   "outputs": [
    {
     "name": "stdout",
     "output_type": "stream",
     "text": [
      "from_station_signature: Sög\n",
      "to_station_signature:   Cr\n",
      "TrainStopStatus.on_time\n"
     ]
    }
   ],
   "source": [
    "\n",
    "train_api = TrafikverketTrain(aiohttp.ClientSession(), \"API KEY\")\n",
    "from_station = await train_api.async_get_train_station('Sölvesborg')\n",
    "to_station = await train_api.async_get_train_station('Kristianstad C')\n",
    "train_stop = await train_api.async_get_train_stop(from_station, to_station,  datetime(2022,9,26,13,57))\n",
    "print(\"from_station_signature: \" + from_station.signature )\n",
    "print(\"to_station_signature:   \" + to_station.signature) \n",
    "print(train_stop.get_state())"
   ]
  }
 ],
 "metadata": {
  "kernelspec": {
   "display_name": "Python 3 (ipykernel)",
   "language": "python",
   "name": "python3"
  },
  "language_info": {
   "codemirror_mode": {
    "name": "ipython",
    "version": 3
   },
   "file_extension": ".py",
   "mimetype": "text/x-python",
   "name": "python",
   "nbconvert_exporter": "python",
   "pygments_lexer": "ipython3",
   "version": "3.8.13"
  }
 },
 "nbformat": 4,
 "nbformat_minor": 5
}
